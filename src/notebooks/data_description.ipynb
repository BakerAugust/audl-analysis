{
 "cells": [
  {
   "cell_type": "code",
   "execution_count": 1,
   "metadata": {},
   "outputs": [],
   "source": [
    "import os\n",
    "os.chdir('..')"
   ]
  },
  {
   "cell_type": "code",
   "execution_count": 2,
   "metadata": {},
   "outputs": [
    {
     "name": "stderr",
     "output_type": "stream",
     "text": [
      "/Users/nateaugust/.pyenv/versions/3.8.10/envs/AUDL-Advanced-Stats/lib/python3.8/site-packages/pandas/compat/__init__.py:124: UserWarning: Could not import the lzma module. Your installed Python is incomplete. Attempting to use lzma compression will result in a RuntimeError.\n",
      "  warnings.warn(msg)\n"
     ]
    }
   ],
   "source": [
    "import audl_advanced_stats as audl\n",
    "import seaborn as sns\n",
    "import pandas as pd\n",
    "from evaluate import evaluate_on_all_teams, evaluate_on_all\n",
    "from clustering import add_cluster_labels\n",
    "from load_data import load_data, make_grid\n",
    "from models import Model1, MarkovModel\n",
    "from settings import get_config\n",
    "from visualize import plot_zones, add_field_boundaries\n",
    "\n",
    "import plotly.graph_objects as go\n",
    "import plotly.express as px\n",
    "CONFIG = get_config()"
   ]
  },
  {
   "cell_type": "code",
   "execution_count": 3,
   "metadata": {},
   "outputs": [],
   "source": [
    "data, zone_df = load_data()"
   ]
  },
  {
   "cell_type": "markdown",
   "metadata": {},
   "source": [
    "# Summary stats"
   ]
  },
  {
   "cell_type": "code",
   "execution_count": 4,
   "metadata": {},
   "outputs": [
    {
     "data": {
      "text/plain": [
       "71394"
      ]
     },
     "execution_count": 4,
     "metadata": {},
     "output_type": "execute_result"
    }
   ],
   "source": [
    "# Number of throws in dataset\n",
    "data.shape[0]"
   ]
  },
  {
   "cell_type": "code",
   "execution_count": 5,
   "metadata": {},
   "outputs": [
    {
     "data": {
      "text/plain": [
       "Completion    0.928607\n",
       "Turnover      0.071393\n",
       "Name: throw_outcome, dtype: float64"
      ]
     },
     "execution_count": 5,
     "metadata": {},
     "output_type": "execute_result"
    }
   ],
   "source": [
    "# Completion rate\n",
    "data.throw_outcome.value_counts()/data.shape[0]"
   ]
  },
  {
   "cell_type": "code",
   "execution_count": 6,
   "metadata": {},
   "outputs": [
    {
     "data": {
      "text/plain": [
       "(22,)"
      ]
     },
     "execution_count": 6,
     "metadata": {},
     "output_type": "execute_result"
    }
   ],
   "source": [
    "data.team_id.value_counts().shape"
   ]
  },
  {
   "cell_type": "code",
   "execution_count": 7,
   "metadata": {},
   "outputs": [],
   "source": [
    "possession_outcomes = data.groupby(['game_id','team_id','possession_number'])['possession_value'].mean()"
   ]
  },
  {
   "cell_type": "code",
   "execution_count": 8,
   "metadata": {},
   "outputs": [
    {
     "data": {
      "text/plain": [
       "(10513,)"
      ]
     },
     "execution_count": 8,
     "metadata": {},
     "output_type": "execute_result"
    }
   ],
   "source": [
    "possession_outcomes.shape"
   ]
  },
  {
   "cell_type": "code",
   "execution_count": 9,
   "metadata": {},
   "outputs": [
    {
     "data": {
      "text/plain": [
       "0.5142204889184819"
      ]
     },
     "execution_count": 9,
     "metadata": {},
     "output_type": "execute_result"
    }
   ],
   "source": [
    "possession_outcomes.mean()"
   ]
  },
  {
   "cell_type": "code",
   "execution_count": 10,
   "metadata": {},
   "outputs": [
    {
     "data": {
      "text/plain": [
       "42885"
      ]
     },
     "execution_count": 10,
     "metadata": {},
     "output_type": "execute_result"
    }
   ],
   "source": [
    "data.possession_outcome.value_counts()['Score']"
   ]
  },
  {
   "cell_type": "code",
   "execution_count": 11,
   "metadata": {},
   "outputs": [],
   "source": [
    "grped = data.groupby(['team_id'])"
   ]
  },
  {
   "cell_type": "markdown",
   "metadata": {},
   "source": [
    "## Visualize possession"
   ]
  },
  {
   "cell_type": "code",
   "execution_count": 47,
   "metadata": {},
   "outputs": [],
   "source": [
    "def visualize_possession(possession_data):\n",
    "    fig = go.Figure()\n",
    "    fig.update_layout(width=600, height=400)\n",
    "    fig.add_trace(\n",
    "        go.Scatter(\n",
    "            x=possession_data[\"y\"],\n",
    "            y=possession_data[\"x\"],\n",
    "            mode=\"lines+markers\",\n",
    "        ),\n",
    "    )\n",
    "\n",
    "    fig = add_field_boundaries(fig, orient='horizontal')\n",
    "    return fig"
   ]
  },
  {
   "cell_type": "code",
   "execution_count": 54,
   "metadata": {},
   "outputs": [],
   "source": [
    "RAL, _ = load_data('RAL', keep_all=True)\n",
    "s = audl.Season()\n",
    "stats_df = s.get_player_stats_by_game()\n",
    "RAL = add_cluster_labels(RAL, stats_df)\n",
    "RAL.dropna(subset=['cluster_id'], inplace=True)\n",
    "fig = visualize_possession(RAL[(RAL.game_id==2796) & (RAL.possession_number==12)])\n",
    "fig.write_image('possession_RAL_2796_12.png')"
   ]
  },
  {
   "cell_type": "code",
   "execution_count": 61,
   "metadata": {},
   "outputs": [
    {
     "data": {
      "text/plain": [
       "Layout({\n",
       "    'annotations': [{'showarrow': False, 'text': 'endzone', 'x': 0.95, 'xref': 'x domain', 'y': 0.95, 'yref': 'y domain'},\n",
       "                    {'showarrow': False,\n",
       "                     'text': 'endzone',\n",
       "                     'x': 0.95,\n",
       "                     'xref': 'x2 domain',\n",
       "                     'y': 0.95,\n",
       "                     'yref': 'y2 domain'},\n",
       "                    {'showarrow': False,\n",
       "                     'text': 'endzone',\n",
       "                     'x': 0.95,\n",
       "                     'xref': 'x3 domain',\n",
       "                     'y': 0.95,\n",
       "                     'yref': 'y3 domain'},\n",
       "                    {'showarrow': False,\n",
       "                     'text': 'endzone',\n",
       "                     'x': 0.95,\n",
       "                     'xref': 'x4 domain',\n",
       "                     'y': 0.95,\n",
       "                     'yref': 'y4 domain'},\n",
       "                    {'showarrow': False,\n",
       "                     'text': 'endzone',\n",
       "                     'x': 0.95,\n",
       "                     'xref': 'x5 domain',\n",
       "                     'y': 0.95,\n",
       "                     'yref': 'y5 domain'},\n",
       "                    {'showarrow': False,\n",
       "                     'text': 'endzone',\n",
       "                     'x': 0.95,\n",
       "                     'xref': 'x6 domain',\n",
       "                     'y': 0.95,\n",
       "                     'yref': 'y6 domain'},\n",
       "                    {'showarrow': False,\n",
       "                     'text': 'endzone',\n",
       "                     'x': 0.95,\n",
       "                     'xref': 'x7 domain',\n",
       "                     'y': 0.95,\n",
       "                     'yref': 'y7 domain'},\n",
       "                    {'showarrow': False,\n",
       "                     'text': 'endzone',\n",
       "                     'x': 0.95,\n",
       "                     'xref': 'x8 domain',\n",
       "                     'y': 0.95,\n",
       "                     'yref': 'y8 domain'},\n",
       "                    {'showarrow': False,\n",
       "                     'text': 'endzone',\n",
       "                     'x': 0.95,\n",
       "                     'xref': 'x9 domain',\n",
       "                     'y': 0.95,\n",
       "                     'yref': 'y9 domain'}],\n",
       "    'autosize': False,\n",
       "    'height': 3000,\n",
       "    'shapes': [{'type': 'line', 'x0': 100, 'x1': 100, 'xref': 'x', 'y0': -25, 'y1': 25, 'yref': 'y'},\n",
       "               {'type': 'line', 'x0': 100, 'x1': 100, 'xref': 'x2', 'y0': -25, 'y1': 25, 'yref': 'y2'},\n",
       "               {'type': 'line', 'x0': 100, 'x1': 100, 'xref': 'x3', 'y0': -25, 'y1': 25, 'yref': 'y3'},\n",
       "               {'type': 'line', 'x0': 100, 'x1': 100, 'xref': 'x4', 'y0': -25, 'y1': 25, 'yref': 'y4'},\n",
       "               {'type': 'line', 'x0': 100, 'x1': 100, 'xref': 'x5', 'y0': -25, 'y1': 25, 'yref': 'y5'},\n",
       "               {'type': 'line', 'x0': 100, 'x1': 100, 'xref': 'x6', 'y0': -25, 'y1': 25, 'yref': 'y6'},\n",
       "               {'type': 'line', 'x0': 100, 'x1': 100, 'xref': 'x7', 'y0': -25, 'y1': 25, 'yref': 'y7'},\n",
       "               {'type': 'line', 'x0': 100, 'x1': 100, 'xref': 'x8', 'y0': -25, 'y1': 25, 'yref': 'y8'},\n",
       "               {'type': 'line', 'x0': 100, 'x1': 100, 'xref': 'x9', 'y0': -25, 'y1': 25, 'yref': 'y9'}],\n",
       "    'showlegend': False,\n",
       "    'template': '...',\n",
       "    'width': 800,\n",
       "    'xaxis': {'anchor': 'y', 'domain': [0.0, 1.0], 'matches': 'x10', 'range': [0, 125], 'showticklabels': False},\n",
       "    'xaxis10': {'anchor': 'y10', 'domain': [0.0, 1.0]},\n",
       "    'xaxis2': {'anchor': 'y2', 'domain': [0.0, 1.0], 'matches': 'x10', 'showticklabels': False},\n",
       "    'xaxis3': {'anchor': 'y3', 'domain': [0.0, 1.0], 'matches': 'x10', 'showticklabels': False},\n",
       "    'xaxis4': {'anchor': 'y4', 'domain': [0.0, 1.0], 'matches': 'x10', 'showticklabels': False},\n",
       "    'xaxis5': {'anchor': 'y5', 'domain': [0.0, 1.0], 'matches': 'x10', 'showticklabels': False},\n",
       "    'xaxis6': {'anchor': 'y6', 'domain': [0.0, 1.0], 'matches': 'x10', 'showticklabels': False},\n",
       "    'xaxis7': {'anchor': 'y7', 'domain': [0.0, 1.0], 'matches': 'x10', 'showticklabels': False},\n",
       "    'xaxis8': {'anchor': 'y8', 'domain': [0.0, 1.0], 'matches': 'x10', 'showticklabels': False},\n",
       "    'xaxis9': {'anchor': 'y9', 'domain': [0.0, 1.0], 'matches': 'x10', 'showticklabels': False},\n",
       "    'yaxis': {'anchor': 'x', 'domain': [0.9269999999999999, 0.9999999999999999], 'range': [-25, 25]},\n",
       "    'yaxis10': {'anchor': 'x10', 'domain': [0.0, 0.073]},\n",
       "    'yaxis2': {'anchor': 'x2', 'domain': [0.824, 0.8969999999999999], 'range': [-25, 25]},\n",
       "    'yaxis3': {'anchor': 'x3', 'domain': [0.721, 0.7939999999999999], 'range': [-25, 25]},\n",
       "    'yaxis4': {'anchor': 'x4', 'domain': [0.618, 0.691], 'range': [-25, 25]},\n",
       "    'yaxis5': {'anchor': 'x5', 'domain': [0.515, 0.588], 'range': [-25, 25]},\n",
       "    'yaxis6': {'anchor': 'x6', 'domain': [0.412, 0.485], 'range': [-25, 25]},\n",
       "    'yaxis7': {'anchor': 'x7', 'domain': [0.30899999999999994, 0.38199999999999995], 'range': [-25, 25]},\n",
       "    'yaxis8': {'anchor': 'x8', 'domain': [0.206, 0.27899999999999997], 'range': [-25, 25]},\n",
       "    'yaxis9': {'anchor': 'x9', 'domain': [0.103, 0.176]}\n",
       "})"
      ]
     },
     "execution_count": 61,
     "metadata": {},
     "output_type": "execute_result"
    }
   ],
   "source": [
    "import numpy as np\n",
    "from plotly.subplots import make_subplots\n",
    "game_df = RAL[RAL.game_id==2796]\n",
    "fig = make_subplots(rows=10, cols=1,shared_xaxes=True)\n",
    "fig.update_layout(\n",
    "    autosize=False,\n",
    "    width=800,\n",
    "    height=3000,\n",
    "    showlegend=False)\n",
    "for i, poss_num in enumerate([8,10,12,15,17,19,21,25,27]):\n",
    "    i = i+1\n",
    "    poss = game_df[game_df.possession_number == poss_num]\n",
    "\n",
    "    fig.add_trace(go.Scatter(x=poss['y'], y=poss['x'], mode=\"lines\", marker={'color': '#EF553B'}), row=i, col=1)\n",
    "\n",
    "    fig.layout.xaxis.update(range=(0, 125))\n",
    "    fig.layout.yaxis.update(range=(-25, 25))\n",
    "\n",
    "    fig.add_annotation(\n",
    "        xref=\"x domain\",\n",
    "        yref=\"y domain\",\n",
    "        x=0.95,\n",
    "        y=0.95,\n",
    "        text=\"endzone\",\n",
    "        showarrow=False,\n",
    "        row=i,\n",
    "        col=1,\n",
    "    )\n",
    "\n",
    "fig.layout.xaxis.update(range=(0, 125))\n",
    "fig.layout.yaxis.update(range=(-25, 25))\n",
    "fig.layout.yaxis2.update(range=(-25, 25))\n",
    "fig.layout.yaxis3.update(range=(-25, 25))\n",
    "fig.layout.yaxis4.update(range=(-25, 25))\n",
    "fig.layout.yaxis5.update(range=(-25, 25))\n",
    "fig.layout.yaxis6.update(range=(-25, 25))\n",
    "fig.layout.yaxis7.update(range=(-25, 25))\n",
    "fig.layout.yaxis8.update(range=(-25, 25))\n",
    "fig.layout.update(\n",
    "            shapes=[\n",
    "                {\n",
    "                    \"type\": \"line\",\n",
    "                    \"x0\": 100,\n",
    "                    \"y0\": -25,\n",
    "                    \"x1\": 100,\n",
    "                    \"y1\": 25,\n",
    "                    \"xref\": f\"x1\",\n",
    "                    \"yref\": f\"y1\",\n",
    "                },\n",
    "                {\n",
    "                    \"type\": \"line\",\n",
    "                    \"x0\": 100,\n",
    "                    \"y0\": -25,\n",
    "                    \"x1\": 100,\n",
    "                    \"y1\": 25,\n",
    "                    \"xref\": f\"x2\",\n",
    "                    \"yref\": f\"y2\",\n",
    "                },\n",
    "                {\n",
    "                    \"type\": \"line\",\n",
    "                    \"x0\": 100,\n",
    "                    \"y0\": -25,\n",
    "                    \"x1\": 100,\n",
    "                    \"y1\": 25,\n",
    "                    \"xref\": f\"x3\",\n",
    "                    \"yref\": f\"y3\",\n",
    "                },\n",
    "                {\n",
    "                    \"type\": \"line\",\n",
    "                    \"x0\": 100,\n",
    "                    \"y0\": -25,\n",
    "                    \"x1\": 100,\n",
    "                    \"y1\": 25,\n",
    "                    \"xref\": f\"x4\",\n",
    "                    \"yref\": f\"y4\",\n",
    "                },\n",
    "                {\n",
    "                    \"type\": \"line\",\n",
    "                    \"x0\": 100,\n",
    "                    \"y0\": -25,\n",
    "                    \"x1\": 100,\n",
    "                    \"y1\": 25,\n",
    "                    \"xref\": f\"x5\",\n",
    "                    \"yref\": f\"y5\",\n",
    "                },\n",
    "                {\n",
    "                    \"type\": \"line\",\n",
    "                    \"x0\": 100,\n",
    "                    \"y0\": -25,\n",
    "                    \"x1\": 100,\n",
    "                    \"y1\": 25,\n",
    "                    \"xref\": f\"x6\",\n",
    "                    \"yref\": f\"y6\",\n",
    "                },\n",
    "                {\n",
    "                    \"type\": \"line\",\n",
    "                    \"x0\": 100,\n",
    "                    \"y0\": -25,\n",
    "                    \"x1\": 100,\n",
    "                    \"y1\": 25,\n",
    "                    \"xref\": f\"x7\",\n",
    "                    \"yref\": f\"y7\",\n",
    "                },\n",
    "                {\n",
    "                    \"type\": \"line\",\n",
    "                    \"x0\": 100,\n",
    "                    \"y0\": -25,\n",
    "                    \"x1\": 100,\n",
    "                    \"y1\": 25,\n",
    "                    \"xref\": f\"x8\",\n",
    "                    \"yref\": f\"y8\",\n",
    "                },\n",
    "                {\n",
    "                    \"type\": \"line\",\n",
    "                    \"x0\": 100,\n",
    "                    \"y0\": -25,\n",
    "                    \"x1\": 100,\n",
    "                    \"y1\": 25,\n",
    "                    \"xref\": f\"x9\",\n",
    "                    \"yref\": f\"y9\",\n",
    "                },\n",
    "            ]\n",
    "        )\n"
   ]
  },
  {
   "cell_type": "code",
   "execution_count": 63,
   "metadata": {},
   "outputs": [],
   "source": [
    "fig.write_image('RAL_possession_paths.png')"
   ]
  },
  {
   "cell_type": "code",
   "execution_count": null,
   "metadata": {},
   "outputs": [],
   "source": []
  }
 ],
 "metadata": {
  "interpreter": {
   "hash": "c98640e22aea71baafe96eb45c8500c337087acab63e4aed39a7536cd3aa095a"
  },
  "kernelspec": {
   "display_name": "Python 3.8.10 64-bit ('AUDL-Advanced-Stats': pyenv)",
   "language": "python",
   "name": "python3"
  },
  "language_info": {
   "codemirror_mode": {
    "name": "ipython",
    "version": 3
   },
   "file_extension": ".py",
   "mimetype": "text/x-python",
   "name": "python",
   "nbconvert_exporter": "python",
   "pygments_lexer": "ipython3",
   "version": "3.8.10"
  },
  "orig_nbformat": 4
 },
 "nbformat": 4,
 "nbformat_minor": 2
}
